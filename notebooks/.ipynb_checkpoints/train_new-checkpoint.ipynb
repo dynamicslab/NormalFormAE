{
 "cells": [
  {
   "cell_type": "code",
   "execution_count": 1,
   "metadata": {},
   "outputs": [
    {
     "name": "stderr",
     "output_type": "stream",
     "text": [
      "\u001b[32m\u001b[1m Activating\u001b[22m\u001b[39m new environment at `~/Documents/Work/NormalFormAE/notebooks/Project.toml`\n"
     ]
    },
    {
     "ename": "ArgumentError",
     "evalue": "ArgumentError: Package NormalFormAE not found in current path:\n- Run `import Pkg; Pkg.add(\"NormalFormAE\")` to install the NormalFormAE package.\n",
     "output_type": "error",
     "traceback": [
      "ArgumentError: Package NormalFormAE not found in current path:\n- Run `import Pkg; Pkg.add(\"NormalFormAE\")` to install the NormalFormAE package.\n",
      "",
      "Stacktrace:",
      " [1] require(::Module, ::Symbol) at ./loading.jl:892",
      " [2] top-level scope at In[1]:3"
     ]
    }
   ],
   "source": [
    "using Pkg\n",
    "Pkg.activate(\".\")\n",
    "using NormalFormAE, Flux, Zygote, Plots\n",
    "include(\"problems/nf.jl\")\n",
    "include(\"/home/manu/Documents/Work/NFAE_old/run/run_nf.jl\")\n",
    "\n",
    "x_model_name = :nf\n",
    "z_model_name = :Hopf\n",
    "x_dim = 128\n",
    "par_dim = 1\n",
    "z_dim = 2\n",
    "tsize = 500\n",
    "tspan = [0.0,200.0]\n",
    "xVar = 0.1\n",
    "aVar = 0.5\n",
    "mean_ic_x = [0.0] \n",
    "mean_ic_a = [0.0]\n",
    "x_rhs = dxdt_rhs\n",
    "x_solve = dxdt_solve \n",
    " \n",
    "\n",
    "model_x = xModel(x_model_name, x_dim, par_dim, tsize,tspan,xVar,aVar,mean_ic_x,mean_ic_a,x_rhs,x_solve)\n",
    "model_z = NormalForm(:Hopf,z_dim ,par_dim, dzdt_rhs, dzdt_solve)\n",
    "\n",
    "state = AE(:State, 128,2, [64,32,16],:elu,gpu)\n",
    "par = AE(:Par, 1,1,[16,16],:elu,gpu)\n",
    "trans = nothing\n",
    "\n",
    "\n",
    "tscale_init = [1f0] |> gpu\n",
    "\n",
    "training_size = 1000\n",
    "test_size = 100\n",
    "\n",
    "\n",
    "data_dir = \"NormalFormAEData\"\n",
    "\n",
    "P_reg = [1.0f0, 1.0f0, 1.0f0, 0.001f0, 0.001f0, 1.0f0, 1.0f0]\n",
    "\n",
    "\n",
    "nfae = NFAE(:nf, :Hopf, model_x, model_z, training_size, test_size, state, par, nothing, tscale_init,\n",
    "                       P_reg,gpu, 10,0.5,0.1,data_dir)\n",
    "\n",
    "\n",
    "load_posttrain(nfae)\n",
    "\n",
    "\n",
    "\n",
    "\n",
    "\n"
   ]
  },
  {
   "cell_type": "code",
   "execution_count": null,
   "metadata": {},
   "outputs": [],
   "source": []
  }
 ],
 "metadata": {
  "kernelspec": {
   "display_name": "Julia 1.4.1",
   "language": "julia",
   "name": "julia-1.4"
  },
  "language_info": {
   "file_extension": ".jl",
   "mimetype": "application/julia",
   "name": "julia",
   "version": "1.4.1"
  }
 },
 "nbformat": 4,
 "nbformat_minor": 2
}
