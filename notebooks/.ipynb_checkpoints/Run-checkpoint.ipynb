{
 "cells": [
  {
   "cell_type": "code",
   "execution_count": 2,
   "metadata": {},
   "outputs": [
    {
     "name": "stderr",
     "output_type": "stream",
     "text": [
      "\u001b[32m\u001b[1m Activating\u001b[22m\u001b[39m environment at `~/Documents/Work/NormalFormAE/Project.toml`\n"
     ]
    }
   ],
   "source": [
    "dir_NFAE = \"/home/manu/Documents/Work/NormalFormAE\"\n",
    "dir_NFAE_data = \"/home/manu/Documents/Work/NormalFormAEData\"\n",
    "using Pkg\n",
    "Pkg.activate(\"$(dir_NFAE)/.\")"
   ]
  },
  {
   "cell_type": "code",
   "execution_count": 1,
   "metadata": {},
   "outputs": [
    {
     "data": {
      "text/plain": [
       "8000000000"
      ]
     },
     "execution_count": 1,
     "metadata": {},
     "output_type": "execute_result"
    }
   ],
   "source": [
    "ENV[\"JULIA_CUDA_VERBOSE\"] = true\n",
    "ENV[\"JULIA_CUDA_MEMORY_POOL\"] = \"split\" # Efficient allocation to GPU (Julia garbage collection is inefficient for this code apparently)\n",
    "ENV[\"JULIA_CUDA_MEMORY_LIMIT\"] = 8000_000_000"
   ]
  },
  {
   "cell_type": "code",
   "execution_count": 3,
   "metadata": {},
   "outputs": [
    {
     "name": "stderr",
     "output_type": "stream",
     "text": [
      "┌ Info: Precompiling NormalFormAE [982037df-12b0-4996-9a11-305c6fcf7770]\n",
      "└ @ Base loading.jl:1260\n",
      "┌ Warning: `haskey(::TargetIterator, name::String)` is deprecated, use `Target(; name = name) !== nothing` instead.\n",
      "│   caller = llvm_compat(::VersionNumber) at compatibility.jl:176\n",
      "└ @ CUDAnative ~/.julia/packages/CUDAnative/C91oY/src/compatibility.jl:176\n"
     ]
    },
    {
     "name": "stdout",
     "output_type": "stream",
     "text": [
      "CuArrays.jl SplittingPool statistics:\n",
      " - 0 pool allocations: 0 bytes in 0.0s\n",
      " - 0 CUDA allocations: 0 bytes in 0.0s\n"
     ]
    },
    {
     "name": "stderr",
     "output_type": "stream",
     "text": [
      "┌ Warning: `haskey(::TargetIterator, name::String)` is deprecated, use `Target(; name = name) !== nothing` instead.\n",
      "│   caller = llvm_compat(::VersionNumber) at compatibility.jl:176\n",
      "└ @ CUDAnative /home/manu/.julia/packages/CUDAnative/C91oY/src/compatibility.jl:176\n",
      "┌ Info: Precompiling JLD2 [033835bb-8acc-5ee8-8aae-3f567f8a3819]\n",
      "└ @ Base loading.jl:1260\n"
     ]
    }
   ],
   "source": [
    "using NormalFormAE\n",
    "using Zygote\n",
    "using Plots, Flux, LaTeXStrings\n",
    "using BSON, JLD2"
   ]
  },
  {
   "cell_type": "code",
   "execution_count": 6,
   "metadata": {},
   "outputs": [
    {
     "data": {
      "text/plain": [
       "1-element Array{Symbol,1}:\n",
       " :args"
      ]
     },
     "execution_count": 6,
     "metadata": {},
     "output_type": "execute_result"
    }
   ],
   "source": [
    "args = Dict()\n",
    "args[\"blabla\"] = 1\n",
    "args[\"ggg\"] = 2\n",
    "args2 = Dict()\n",
    "JLD2.@save \"$(dir_NFAE_data)/Final/l96/args.jld2\" args\n",
    "args = Dict()\n",
    "JLD2.@load \"$(dir_NFAE_data)/Final/l96/args.jld2\" args"
   ]
  },
  {
   "cell_type": "raw",
   "metadata": {},
   "source": []
  },
  {
   "cell_type": "code",
   "execution_count": null,
   "metadata": {},
   "outputs": [],
   "source": []
  }
 ],
 "metadata": {
  "kernelspec": {
   "display_name": "Julia 1.4.1",
   "language": "julia",
   "name": "julia-1.4"
  },
  "language_info": {
   "file_extension": ".jl",
   "mimetype": "application/julia",
   "name": "julia",
   "version": "1.4.1"
  }
 },
 "nbformat": 4,
 "nbformat_minor": 2
}
